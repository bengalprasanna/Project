{
  "nbformat": 4,
  "nbformat_minor": 0,
  "metadata": {
    "colab": {
      "provenance": []
    },
    "kernelspec": {
      "name": "python3",
      "display_name": "Python 3"
    },
    "language_info": {
      "name": "python"
    }
  },
  "cells": [
    {
      "cell_type": "code",
      "execution_count": null,
      "metadata": {
        "id": "nUVmmIWPutUS"
      },
      "outputs": [],
      "source": [
        "import csv\n",
        "import matplotlib.pyplot as plt\n",
        "import numpy as np\n",
        "\n",
        "# File path for the CSV file\n",
        "csv_file = \"Civil_Eds.csv\"\n",
        "\n",
        "# Lists to store the data\n",
        "time_values = []\n",
        "strain_values = []\n",
        "displacement_values = []\n",
        "load_values = []\n",
        "temperature_values = []\n",
        "\n",
        "# Read the data from the CSV file\n",
        "with open(csv_file, \"r\") as file:\n",
        "    reader = csv.DictReader(file)\n",
        "    for row in reader:\n",
        "        time_values.append(int(row[\"Time\"]))\n",
        "        strain_values.append(float(row[\"Strain\"]))\n",
        "        displacement_values.append(float(row[\"Displacement\"]))\n",
        "        load_values.append(float(row[\"Load\"]))\n",
        "        temperature_values.append(float(row[\"Temperature\"]))\n",
        "\n",
        "# Calculate the average strain\n",
        "average_strain = np.mean(strain_values)\n",
        "print(\"The average strain is:\", average_strain)\n",
        "\n",
        "# Calculate the standard deviation of the strain\n",
        "standard_deviation_strain = np.std(strain_values)\n",
        "print(\"The standard deviation of the strain is:\", standard_deviation_strain)\n",
        "\n",
        "# Calculate the correlation coefficient between the strain and temperature\n",
        "correlation_coefficient = np.corrcoef(strain_values, temperature_values)[0, 1]\n",
        "print(\"The correlation coefficient between the strain and temperature is:\", correlation_coefficient)\n",
        "\n",
        "# Generate a line graph of the strain data over time\n",
        "plt.plot(time_values, strain_values, marker=\"o\")\n",
        "plt.xlabel(\"Time\")\n",
        "plt.ylabel(\"Strain\")\n",
        "plt.title(\"Strain over Time\")\n",
        "plt.show()\n",
        "\n",
        "# Generate a scatter plot of displacement versus load\n",
        "plt.scatter(displacement_values, load_values, color=\"red\", marker=\"s\")\n",
        "plt.xlabel(\"Displacement\")\n",
        "plt.ylabel(\"Load\")\n",
        "plt.title(\"Displacement vs. Load\")\n",
        "plt.show()"
      ]
    }
  ]
}